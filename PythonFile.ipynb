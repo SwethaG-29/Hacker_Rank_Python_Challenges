{
 "cells": [
  {
   "cell_type": "code",
   "execution_count": null,
   "id": "b2497f84",
   "metadata": {},
   "outputs": [],
   "source": [
    "In this challenge, the user enters a string and a substring. You have to print the number of times that the substring occurs in the given string. String traversal will take place from left to right, not from right to left.\n",
    "\n",
    "NOTE: String letters are case-sensitive.\n",
    "\n",
    "Input Format\n",
    "\n",
    "The first line of input contains the original string. The next line contains the substring.\n",
    "\n",
    "Constraints\n",
    "\n",
    "\n",
    "Each character in the string is an ascii character.\n",
    "\n",
    "Output Format\n",
    "\n",
    "Output the integer number indicating the total number of occurrences of the substring in the original string.\n",
    "\n",
    "Sample Input\n",
    "\n",
    "ABCDCDC\n",
    "CDC\n",
    "Sample Output\n",
    "\n",
    "2\n",
    "Concept\n",
    "\n",
    "Some string processing examples, such as these, might be useful.\n",
    "There are a couple of new concepts:\n",
    "In Python, the length of a string is found by the function len(s), where  is the string.\n",
    "To traverse through the length of a string, use a for loop:\n",
    "\n",
    "for i in range(0, len(s)):\n",
    "    print (s[i])\n",
    "A range function is used to loop over some length:\n",
    "\n",
    "range (0, 5)\n",
    "Here, the range loops over  to .  is excluded."
   ]
  },
  {
   "cell_type": "code",
   "execution_count": null,
   "id": "7e00b075",
   "metadata": {},
   "outputs": [],
   "source": [
    "def count_substring(string, sub_string):\n",
    "    cnt = 0\n",
    "    sub_len = len(sub_string)\n",
    "    for i in range(len(string) - sub_len + 1):\n",
    "        if string[i:i + sub_len] == sub_string:\n",
    "            cnt += 1\n",
    "    return cnt\n",
    "\n"
   ]
  }
 ],
 "metadata": {
  "kernelspec": {
   "display_name": "Python 3 (ipykernel)",
   "language": "python",
   "name": "python3"
  },
  "language_info": {
   "codemirror_mode": {
    "name": "ipython",
    "version": 3
   },
   "file_extension": ".py",
   "mimetype": "text/x-python",
   "name": "python",
   "nbconvert_exporter": "python",
   "pygments_lexer": "ipython3",
   "version": "3.11.5"
  }
 },
 "nbformat": 4,
 "nbformat_minor": 5
}
