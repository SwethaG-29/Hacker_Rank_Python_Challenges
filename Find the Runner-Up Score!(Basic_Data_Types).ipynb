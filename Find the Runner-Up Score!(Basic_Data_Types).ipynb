{
 "cells": [
  {
   "cell_type": "markdown",
   "id": "31fc1821",
   "metadata": {},
   "source": [
    "Given the participants' score sheet for your University Sports Day, you are required to find the runner-up score. You are given  scores. Store them in a list and find the score of the runner-up.\n",
    "\n",
    "Input Format\n",
    "\n",
    "The first line contains . The second line contains an array   of  integers each separated by a space.\n",
    "\n",
    "Constraints\n",
    "\n",
    "Output Format\n",
    "\n",
    "Print the runner-up score.\n",
    "\n",
    "Sample Input 0\n",
    "\n",
    "5\n",
    "2 3 6 6 5\n",
    "Sample Output 0\n",
    "\n",
    "5\n",
    "Explanation 0\n",
    "\n",
    "Given list is . The maximum score is , second maximum is . Hence, we print  as the runner-up score."
   ]
  },
  {
   "cell_type": "code",
   "execution_count": 78,
   "id": "6730deb2",
   "metadata": {},
   "outputs": [
    {
     "name": "stdout",
     "output_type": "stream",
     "text": [
      "8 7 6 5 4\n"
     ]
    }
   ],
   "source": [
    "x = map(int,input().split())"
   ]
  },
  {
   "cell_type": "code",
   "execution_count": 83,
   "id": "fa624a13",
   "metadata": {},
   "outputs": [],
   "source": [
    "x = list(x)\n",
    "x = sorted(x)"
   ]
  },
  {
   "cell_type": "code",
   "execution_count": 84,
   "id": "8bac7bc2",
   "metadata": {},
   "outputs": [
    {
     "data": {
      "text/plain": [
       "8"
      ]
     },
     "execution_count": 84,
     "metadata": {},
     "output_type": "execute_result"
    }
   ],
   "source": [
    "maximum = max(x)\n",
    "maximum"
   ]
  },
  {
   "cell_type": "code",
   "execution_count": 85,
   "id": "4a4e4e3e",
   "metadata": {},
   "outputs": [
    {
     "data": {
      "text/plain": [
       "7"
      ]
     },
     "execution_count": 85,
     "metadata": {},
     "output_type": "execute_result"
    }
   ],
   "source": [
    "res = [(x[i]) for i in range(len(x)) if x[i]!=maximum]\n",
    "res[-1]"
   ]
  },
  {
   "cell_type": "code",
   "execution_count": 57,
   "id": "d1d9ef17",
   "metadata": {},
   "outputs": [],
   "source": [
    "res = []\n",
    "for i in range(len(x)):\n",
    "    if x[i] != maximum:\n",
    "        res.append(x[i])"
   ]
  },
  {
   "cell_type": "code",
   "execution_count": 47,
   "id": "3486c14f",
   "metadata": {},
   "outputs": [
    {
     "data": {
      "text/plain": [
       "[2, 3, 5]"
      ]
     },
     "execution_count": 47,
     "metadata": {},
     "output_type": "execute_result"
    }
   ],
   "source": [
    "res"
   ]
  }
 ],
 "metadata": {
  "kernelspec": {
   "display_name": "Python 3 (ipykernel)",
   "language": "python",
   "name": "python3"
  },
  "language_info": {
   "codemirror_mode": {
    "name": "ipython",
    "version": 3
   },
   "file_extension": ".py",
   "mimetype": "text/x-python",
   "name": "python",
   "nbconvert_exporter": "python",
   "pygments_lexer": "ipython3",
   "version": "3.11.5"
  }
 },
 "nbformat": 4,
 "nbformat_minor": 5
}
