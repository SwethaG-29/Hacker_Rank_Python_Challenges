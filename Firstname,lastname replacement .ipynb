{
 "cells": [
  {
   "cell_type": "code",
   "execution_count": null,
   "id": "01e5db5d",
   "metadata": {},
   "outputs": [],
   "source": [
    "You are given the firstname and lastname of a person on two different lines. Your task is to read them and print the following:\n",
    "\n",
    "Hello firstname lastname! You just delved into python.\n",
    "\n",
    "Function Description\n",
    "\n",
    "Complete the print_full_name function in the editor below.\n",
    "\n",
    "print_full_name has the following parameters:\n",
    "\n",
    "string first: the first name\n",
    "string last: the last name\n",
    "Prints\n",
    "\n",
    "string: 'Hello Firstname,lastname! You just delved into python' where  and  are replaced with  and .\n",
    "Input Format\n",
    "\n",
    "The first line contains the first name, and the second line contains the last name.\n",
    "\n",
    "Constraints\n",
    "\n",
    "The length of the first and last names are each ≤ .\n",
    "\n",
    "Sample Input 0\n",
    "\n",
    "Ross\n",
    "Taylor\n",
    "Sample Output 0\n",
    "\n",
    "Hello Ross Taylor! You just delved into python.\n",
    "Explanation 0\n",
    "\n",
    "The input read by the program is stored as a string data type. A string is a collection of characters."
   ]
  },
  {
   "cell_type": "code",
   "execution_count": null,
   "id": "e0a04623",
   "metadata": {},
   "outputs": [],
   "source": [
    "#\n",
    "# Complete the 'print_full_name' function below.\n",
    "#\n",
    "# The function is expected to return a STRING.\n",
    "# The function accepts following parameters:\n",
    "#  1. STRING first\n",
    "#  2. STRING last\n",
    "#\n",
    "\n",
    "def print_full_name(first, last):\n",
    "    print(\"Hello\",first,last + \"!\",\"You just delved into python.\")\n",
    "if __name__ == '__main__':\n",
    "    first_name = input()\n",
    "    last_name = input()\n",
    "    print_full_name(first_name, last_name)"
   ]
  },
  {
   "cell_type": "code",
   "execution_count": null,
   "id": "81de219d",
   "metadata": {},
   "outputs": [],
   "source": []
  }
 ],
 "metadata": {
  "kernelspec": {
   "display_name": "Python 3 (ipykernel)",
   "language": "python",
   "name": "python3"
  },
  "language_info": {
   "codemirror_mode": {
    "name": "ipython",
    "version": 3
   },
   "file_extension": ".py",
   "mimetype": "text/x-python",
   "name": "python",
   "nbconvert_exporter": "python",
   "pygments_lexer": "ipython3",
   "version": "3.11.5"
  }
 },
 "nbformat": 4,
 "nbformat_minor": 5
}
