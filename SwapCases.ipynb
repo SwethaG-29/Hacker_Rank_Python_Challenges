{
 "cells": [
  {
   "cell_type": "code",
   "execution_count": null,
   "id": "142a1f36",
   "metadata": {},
   "outputs": [],
   "source": [
    "You are given a string and your task is to swap cases. In other words, convert all lowercase letters to uppercase letters and vice versa.\n",
    "\n",
    "For Example:\n",
    "\n",
    "Www.HackerRank.com → wWW.hACKERrANK.COM\n",
    "Pythonist 2 → pYTHONIST 2  \n",
    "Function Description\n",
    "\n",
    "Complete the swap_case function in the editor below.\n",
    "\n",
    "swap_case has the following parameters:\n",
    "\n",
    "string s: the string to modify\n",
    "Returns\n",
    "\n",
    "string: the modified string\n",
    "Input Format\n",
    "\n",
    "A single line containing a string .\n",
    "\n",
    "Constraints\n",
    "\n",
    "\n",
    "Sample Input 0\n",
    "\n",
    "HackerRank.com presents \"Pythonist 2\".\n",
    "Sample Output 0\n",
    "\n",
    "hACKERrANK.COM PRESENTS \"pYTHONIST 2\"."
   ]
  },
  {
   "cell_type": "code",
   "execution_count": 1,
   "id": "7c78f3be",
   "metadata": {},
   "outputs": [
    {
     "name": "stdout",
     "output_type": "stream",
     "text": [
      "pYTHONIST 2\n"
     ]
    }
   ],
   "source": [
    "inp = \"Pythonist 2\"\n",
    "s = str.swapcase(inp)\n",
    "print(s)"
   ]
  }
 ],
 "metadata": {
  "kernelspec": {
   "display_name": "Python 3 (ipykernel)",
   "language": "python",
   "name": "python3"
  },
  "language_info": {
   "codemirror_mode": {
    "name": "ipython",
    "version": 3
   },
   "file_extension": ".py",
   "mimetype": "text/x-python",
   "name": "python",
   "nbconvert_exporter": "python",
   "pygments_lexer": "ipython3",
   "version": "3.11.5"
  }
 },
 "nbformat": 4,
 "nbformat_minor": 5
}
